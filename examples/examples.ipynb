{
 "metadata": {
  "language_info": {
   "codemirror_mode": {
    "name": "ipython",
    "version": 3
   },
   "file_extension": ".py",
   "mimetype": "text/x-python",
   "name": "python",
   "nbconvert_exporter": "python",
   "pygments_lexer": "ipython3",
   "version": "3.9.6"
  },
  "orig_nbformat": 4,
  "kernelspec": {
   "name": "python3",
   "display_name": "Python 3.9.6 64-bit"
  },
  "interpreter": {
   "hash": "4cd7ab41f5fca4b9b44701077e38c5ffd31fe66a6cab21e0214b68d958d0e462"
  }
 },
 "nbformat": 4,
 "nbformat_minor": 2,
 "cells": [
  {
   "source": [
    "## Read a simple HTML table"
   ],
   "cell_type": "markdown",
   "metadata": {}
  },
  {
   "cell_type": "code",
   "execution_count": 1,
   "metadata": {},
   "outputs": [],
   "source": [
    "from intake_html_table import HtmlTableSource"
   ]
  },
  {
   "cell_type": "code",
   "execution_count": 3,
   "metadata": {},
   "outputs": [],
   "source": [
    "src = HtmlTableSource(\"examples/table.html\")"
   ]
  },
  {
   "cell_type": "code",
   "execution_count": 4,
   "metadata": {},
   "outputs": [],
   "source": [
    "df = src.read()"
   ]
  },
  {
   "cell_type": "code",
   "execution_count": 5,
   "metadata": {},
   "outputs": [
    {
     "output_type": "stream",
     "name": "stdout",
     "text": [
      "<class 'pandas.core.frame.DataFrame'>\nRangeIndex: 3 entries, 0 to 2\nData columns (total 3 columns):\n #   Column   Non-Null Count  Dtype \n---  ------   --------------  ----- \n 0   Column1  3 non-null      object\n 1   Column2  3 non-null      object\n 2   Column3  3 non-null      object\ndtypes: object(3)\nmemory usage: 200.0+ bytes\n"
     ]
    }
   ],
   "source": [
    "df.info()"
   ]
  },
  {
   "cell_type": "code",
   "execution_count": 6,
   "metadata": {},
   "outputs": [
    {
     "output_type": "execute_result",
     "data": {
      "text/plain": [
       "        Column1       Column2       Column3\n",
       "0  Row1 Column1  Row1 Column2  Row1 Column3\n",
       "1  Row2 Column1  Row2 Column2  Row2 Column3\n",
       "2  Row3 Column1  Row3 Column2  Row3 Column3"
      ],
      "text/html": "<div>\n<style scoped>\n    .dataframe tbody tr th:only-of-type {\n        vertical-align: middle;\n    }\n\n    .dataframe tbody tr th {\n        vertical-align: top;\n    }\n\n    .dataframe thead th {\n        text-align: right;\n    }\n</style>\n<table border=\"1\" class=\"dataframe\">\n  <thead>\n    <tr style=\"text-align: right;\">\n      <th></th>\n      <th>Column1</th>\n      <th>Column2</th>\n      <th>Column3</th>\n    </tr>\n  </thead>\n  <tbody>\n    <tr>\n      <th>0</th>\n      <td>Row1 Column1</td>\n      <td>Row1 Column2</td>\n      <td>Row1 Column3</td>\n    </tr>\n    <tr>\n      <th>1</th>\n      <td>Row2 Column1</td>\n      <td>Row2 Column2</td>\n      <td>Row2 Column3</td>\n    </tr>\n    <tr>\n      <th>2</th>\n      <td>Row3 Column1</td>\n      <td>Row3 Column2</td>\n      <td>Row3 Column3</td>\n    </tr>\n  </tbody>\n</table>\n</div>"
     },
     "metadata": {},
     "execution_count": 6
    }
   ],
   "source": [
    "df.head()"
   ]
  },
  {
   "source": [
    "## Read an Apache Server directory"
   ],
   "cell_type": "markdown",
   "metadata": {}
  },
  {
   "cell_type": "code",
   "execution_count": 27,
   "metadata": {},
   "outputs": [],
   "source": [
    "from intake_html_table import ApacheDirectoryCatalog"
   ]
  },
  {
   "cell_type": "code",
   "execution_count": 28,
   "metadata": {},
   "outputs": [],
   "source": [
    "cat = ApacheDirectoryCatalog(\"https://www.ncei.noaa.gov/data/global-summary-of-the-day/access/\")"
   ]
  },
  {
   "cell_type": "code",
   "execution_count": 29,
   "metadata": {},
   "outputs": [
    {
     "output_type": "execute_result",
     "data": {
      "text/plain": [
       "['parent',\n",
       " '1929',\n",
       " '1930',\n",
       " '1931',\n",
       " '1932',\n",
       " '1933',\n",
       " '1934',\n",
       " '1935',\n",
       " '1936',\n",
       " '1937',\n",
       " '1938',\n",
       " '1939',\n",
       " '1940',\n",
       " '1941',\n",
       " '1942',\n",
       " ...]"
      ]
     },
     "metadata": {},
     "execution_count": 29
    }
   ],
   "source": [
    "list(cat)\n"
   ]
  },
  {
   "cell_type": "code",
   "execution_count": 30,
   "metadata": {},
   "outputs": [
    {
     "output_type": "execute_result",
     "data": {
      "text/plain": [
       "['parent',\n",
       " '01001099999.csv',\n",
       " '01001499999.csv',\n",
       " '01002099999.csv',\n",
       " '01003099999.csv',\n",
       " '01006099999.csv',\n",
       " '01007099999.csv',\n",
       " '01008099999.csv',\n",
       " '01009099999.csv',\n",
       " ...]"
      ]
     },
     "metadata": {},
     "execution_count": 30
    }
   ],
   "source": [
    "list(cat['2021'])"
   ]
  },
  {
   "cell_type": "code",
   "execution_count": 32,
   "metadata": {},
   "outputs": [
    {
     "output_type": "stream",
     "name": "stdout",
     "text": [
      "<class 'pandas.core.frame.DataFrame'>\nRangeIndex: 184 entries, 0 to 183\nData columns (total 28 columns):\n #   Column            Non-Null Count  Dtype  \n---  ------            --------------  -----  \n 0   STATION           184 non-null    int64  \n 1   DATE              184 non-null    object \n 2   LATITUDE          184 non-null    float64\n 3   LONGITUDE         184 non-null    float64\n 4   ELEVATION         184 non-null    float64\n 5   NAME              184 non-null    object \n 6   TEMP              184 non-null    float64\n 7   TEMP_ATTRIBUTES   184 non-null    int64  \n 8   DEWP              184 non-null    float64\n 9   DEWP_ATTRIBUTES   184 non-null    int64  \n 10  SLP               184 non-null    float64\n 11  SLP_ATTRIBUTES    184 non-null    int64  \n 12  STP               184 non-null    float64\n 13  STP_ATTRIBUTES    184 non-null    int64  \n 14  VISIB             184 non-null    float64\n 15  VISIB_ATTRIBUTES  184 non-null    int64  \n 16  WDSP              184 non-null    float64\n 17  WDSP_ATTRIBUTES   184 non-null    int64  \n 18  MXSPD             184 non-null    float64\n 19  GUST              184 non-null    float64\n 20  MAX               184 non-null    float64\n 21  MAX_ATTRIBUTES    184 non-null    object \n 22  MIN               184 non-null    float64\n 23  MIN_ATTRIBUTES    184 non-null    object \n 24  PRCP              184 non-null    float64\n 25  PRCP_ATTRIBUTES   184 non-null    object \n 26  SNDP              184 non-null    float64\n 27  FRSHTT            184 non-null    int64  \ndtypes: float64(15), int64(8), object(5)\nmemory usage: 40.4+ KB\n"
     ]
    }
   ],
   "source": [
    "df = cat['2021']['01001099999.csv'].read()\n",
    "df.info()"
   ]
  }
 ]
}
